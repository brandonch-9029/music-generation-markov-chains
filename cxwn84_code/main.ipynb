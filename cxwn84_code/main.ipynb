{
 "cells": [
  {
   "cell_type": "code",
   "execution_count": 25,
   "id": "b4458a7d-4cf7-4678-a038-ae1275d310e0",
   "metadata": {},
   "outputs": [],
   "source": [
    "# Import libraries\n",
    "import numpy as np\n",
    "import music21 as m21\n",
    "import random\n",
    "import os\n",
    "import pickle\n",
    "from collections import Counter\n",
    "from typing import Union, List, Tuple\n",
    "from fractions import Fraction\n",
    "\n",
    "from muprocdurham.ngram import bigram_matrix_from_model, show_bigram_matrix"
   ]
  },
  {
   "cell_type": "markdown",
   "id": "12ce0b27-2f6e-442a-aa06-4499b5662080",
   "metadata": {},
   "source": [
    "# Prepare files"
   ]
  },
  {
   "cell_type": "code",
   "execution_count": 26,
   "id": "235fa68e-6273-4b5d-9be1-4c9716b8157e",
   "metadata": {},
   "outputs": [],
   "source": [
    "# Billboard Data: CoCoPops-main/Billboard/Data/\n",
    "# RollingStone: CoCoPops-main/RollingStone/Humdrum/\n",
    "\n",
    "# Set folder paths\n",
    "rollingstone_path = 'CoCoPops-main/RollingStone/Humdrum/'\n",
    "billboard_path = 'CoCoPops-main/Billboard/Data/'\n",
    "\n",
    "files_in_rollingstone = os.listdir(rollingstone_path)\n",
    "files_in_billboard = os.listdir(billboard_path)\n",
    "\n",
    "# List of files in corpus for processing\n",
    "rollingstone_file_list = []\n",
    "billboard_file_list = []\n",
    "\n",
    "# Add every .hum file into processing list\n",
    "# Rollingstone\n",
    "for file_name in files_in_rollingstone:\n",
    "    full_path = os.path.join(rollingstone_path, file_name)\n",
    "    if os.path.isfile(full_path) and file_name.endswith('.hum'):\n",
    "        rollingstone_file_list.append(file_name)\n",
    "\n",
    "# Billboard\n",
    "for file_name in files_in_billboard:\n",
    "    full_path = os.path.join(billboard_path, file_name)\n",
    "    if os.path.isfile(full_path) and file_name.endswith('.hum'):\n",
    "        billboard_file_list.append(file_name)"
   ]
  },
  {
   "cell_type": "code",
   "execution_count": 3,
   "id": "e44c3ae8-20aa-4366-a754-1a0880304ef5",
   "metadata": {},
   "outputs": [
    {
     "name": "stdout",
     "output_type": "stream",
     "text": [
      "200\n",
      "214\n"
     ]
    }
   ],
   "source": [
    "# Important to note that some songs in Rollingstone have empty note sequences, and all their quarterLengths are 1\n",
    "# Only billboard song notes have varying quarterLengths\n",
    "print(len(rollingstone_file_list))\n",
    "print(len(billboard_file_list))"
   ]
  },
  {
   "cell_type": "code",
   "execution_count": 5,
   "id": "c13fd302-c3cf-4404-a5a5-3ab8632cb5e8",
   "metadata": {},
   "outputs": [
    {
     "name": "stdout",
     "output_type": "stream",
     "text": [
      "Counter({1.0: 59607})\n"
     ]
    }
   ],
   "source": [
    "rs_ql_counter = Counter()\n",
    "\n",
    "for songname in rollingstone_file_list:\n",
    "    \n",
    "    # Parse song\n",
    "    song = m21.converter.parse(rollingstone_path + songname, format=\"humdrum\")\n",
    "    # Count and sum quarterLengths\n",
    "    rs_ql_counter += sample_duration_from_piece(song)\n",
    "                    \n",
    "print(rs_ql_counter)"
   ]
  },
  {
   "cell_type": "markdown",
   "id": "3ed73f24-bd73-4fa5-b6aa-a8965c02add0",
   "metadata": {},
   "source": [
    "# Basic: Count Probability Model"
   ]
  },
  {
   "cell_type": "code",
   "execution_count": 4,
   "id": "0fcfb2e6-bd8c-44ca-bcb1-fafd76960367",
   "metadata": {},
   "outputs": [],
   "source": [
    "def sample_pitch_from_piece(s: m21.stream.Stream) -> Counter:\n",
    "    \"\"\"\n",
    "    Create a sample distribution of pitches (MIDI) from a given piece.\n",
    "    \"\"\"\n",
    "    nts = s.recurse().getElementsByClass(m21.note.Note)\n",
    "    midis = [n.pitch.midi for n in nts]\n",
    "    return Counter(midis)\n",
    "\n",
    "def sample_duration_from_piece(s: m21.stream.Stream) -> Counter:\n",
    "    \"\"\"\n",
    "    Create a sample distribution of durations (quarterLength) from a given piece.\n",
    "    \"\"\"\n",
    "    nts = s.recurse().getElementsByClass(m21.note.Note)\n",
    "    qls = [n.quarterLength for n in nts]\n",
    "    return Counter(qls)\n",
    "\n",
    "def make_random_sequence(\n",
    "    options: Union[List, Tuple],\n",
    "    weights: Union[List, Tuple],\n",
    "    length: int = 20\n",
    ") -> m21.stream.Part:\n",
    "    \"\"\"\n",
    "    Make a pseudorandom sequence of some data given\n",
    "    a list of `options` (e.g., midi notes or durations) and\n",
    "    another list of the same length with the corresponding `weights`.\n",
    "    \"\"\"\n",
    "    return random.choices(\n",
    "        options,\n",
    "        weights=weights,  # Note: alternatively `cum_weights` for cumulative.\n",
    "        k=length\n",
    "    )\n",
    "\n",
    "# This function ensures that the randomly selected\n",
    "# quarterLengths sum to the given limit in real time rather than follow a fixed note quantity\n",
    "def make_random_sequence_qls(\n",
    "    options: Union[List, Tuple],\n",
    "    weights: Union[List, Tuple],\n",
    "    duration: int\n",
    ") -> m21.stream.Part:\n",
    "    \"\"\"\n",
    "    Make a pseudorandom sequence of some data given\n",
    "    a list of `options` (e.g., midi notes or durations) and\n",
    "    another list of the same length with the corresponding `weights`.\n",
    "    \"\"\"\n",
    "    \n",
    "    sequence = []\n",
    "\n",
    "    while sum(sequence) < duration:\n",
    "        sequence += random.choices(options, weights=weights)\n",
    "    \n",
    "    return sequence\n",
    "\n",
    "def make_random_melody(\n",
    "    midis: List,\n",
    "    qls: List,\n",
    "    filename: str\n",
    ") -> m21.stream.Part:\n",
    "    \"\"\"\n",
    "    Create a stream from a list of pitches (`MIDI`) and durations (`qls`).\n",
    "    \"\"\"\n",
    "\n",
    "    l = len(midis)\n",
    "    assert l == len(qls)\n",
    "\n",
    "    p = m21.stream.Part()\n",
    "    for i in range(l):\n",
    "        n = m21.note.Note(midis[i])\n",
    "        n.quarterLength = qls[i]\n",
    "        p.append(n)\n",
    "\n",
    "    p.write(\"midi\", filename + \".midi\")"
   ]
  },
  {
   "cell_type": "code",
   "execution_count": 5,
   "id": "72cab1be-2716-42ec-8b90-7b37fcf832ab",
   "metadata": {},
   "outputs": [
    {
     "name": "stdout",
     "output_type": "stream",
     "text": [
      "Counter({62: 9012, 64: 7757, 59: 6203, 60: 5895, 57: 5655, 66: 4970, 67: 4436, 65: 4370, 61: 4117, 69: 3733, 55: 3641, 63: 3191, 58: 2909, 54: 2366, 68: 2333, 52: 1948, 70: 1771, 56: 1699, 71: 1615, 72: 1311, 53: 1301, 50: 797, 74: 725, 73: 683, 49: 638, 51: 594, 48: 488, 46: 369, 47: 359, 44: 317, 75: 232, 76: 182, 45: 161, 42: 105, 43: 76, 77: 61, 79: 55, 78: 40, 41: 25, 80: 17, 81: 16, 36: 15, 82: 9, 40: 8, 38: 8, 37: 7, 83: 1, 39: 1})\n"
     ]
    }
   ],
   "source": [
    "# Sum of Pitch Count for Billboard Songs\n",
    "# Empty Counter\n",
    "bb_p_counter = Counter()\n",
    "\n",
    "for songname in billboard_file_list:\n",
    "    \n",
    "    # Parse song\n",
    "    song = m21.converter.parse(billboard_path + songname, format=\"humdrum\")\n",
    "    \n",
    "    # Count and sum pitches\n",
    "    bb_p_counter += sample_pitch_from_piece(song)\n",
    "\n",
    "print(bb_p_counter)"
   ]
  },
  {
   "cell_type": "code",
   "execution_count": 6,
   "id": "9fd910ff-52b8-4044-9778-197b872dcaee",
   "metadata": {},
   "outputs": [],
   "source": [
    "# Save Billboard Combined PCPs in a pickle file\n",
    "with open(\"pickles/billboard_p\", \"wb\") as file:\n",
    "    pickle.dump(bb_p_counter, file)"
   ]
  },
  {
   "cell_type": "code",
   "execution_count": 7,
   "id": "1ec671e7-b4e4-4666-8106-bddc2d33ab04",
   "metadata": {},
   "outputs": [
    {
     "name": "stdout",
     "output_type": "stream",
     "text": [
      "Counter({0.5: 46491, 1.0: 15615, 0.25: 12807, 1.5: 2918, 2.0: 1944, 0.75: 1888, 0.0: 1798, 4.0: 603, Fraction(2, 3): 568, 3.0: 524, Fraction(1, 3): 514, 0.125: 239, 0.375: 124, Fraction(1, 6): 93, 3.5: 25, 6.0: 25, 1.75: 20, Fraction(4, 3): 14, Fraction(2, 5): 10, 0.0625: 1, 0.1875: 1})\n"
     ]
    }
   ],
   "source": [
    "# Sum of quarterLengths for Billboard Songs\n",
    "# Empty Counter\n",
    "bb_ql_counter = Counter()\n",
    "\n",
    "for songname in billboard_file_list:\n",
    "    \n",
    "    # Parse song\n",
    "    song = m21.converter.parse(billboard_path + songname, format=\"humdrum\")\n",
    "    \n",
    "    # Count and sum quarterLengths\n",
    "    bb_ql_counter += sample_duration_from_piece(song)\n",
    "\n",
    "print(bb_ql_counter)"
   ]
  },
  {
   "cell_type": "code",
   "execution_count": 8,
   "id": "a4cbe5d9-c9b8-4fde-8bd4-8d8328a89de0",
   "metadata": {},
   "outputs": [],
   "source": [
    "# Save Billboard Combined QLs in a pickle file\n",
    "with open(\"pickles/billboard_ql\", \"wb\") as file:\n",
    "    pickle.dump(bb_ql_counter, file)"
   ]
  },
  {
   "cell_type": "code",
   "execution_count": 5,
   "id": "47869695-bbef-4e43-8de0-e553ebc3b0d6",
   "metadata": {},
   "outputs": [],
   "source": [
    "# Skip here.\n",
    "# Load pickle files\n",
    "\n",
    "with open('pickles/billboard_p', 'rb') as file:\n",
    "    billboard_p_saved = pickle.load(file)\n",
    "\n",
    "with open('pickles/billboard_ql', 'rb') as file:\n",
    "    billboard_ql_saved = pickle.load(file)"
   ]
  },
  {
   "cell_type": "code",
   "execution_count": 6,
   "id": "8caa2b78-eeab-4490-be65-6a78051e5032",
   "metadata": {},
   "outputs": [
    {
     "data": {
      "text/plain": [
       "Counter({61: 4117,\n",
       "         62: 9012,\n",
       "         64: 7757,\n",
       "         66: 4970,\n",
       "         59: 6203,\n",
       "         68: 2333,\n",
       "         69: 3733,\n",
       "         57: 5655,\n",
       "         71: 1615,\n",
       "         73: 683,\n",
       "         65: 4370,\n",
       "         60: 5895,\n",
       "         72: 1311,\n",
       "         70: 1771,\n",
       "         55: 3641,\n",
       "         63: 3191,\n",
       "         53: 1301,\n",
       "         58: 2909,\n",
       "         67: 4436,\n",
       "         56: 1699,\n",
       "         52: 1948,\n",
       "         54: 2366,\n",
       "         77: 61,\n",
       "         74: 725,\n",
       "         79: 55,\n",
       "         50: 797,\n",
       "         48: 488,\n",
       "         46: 369,\n",
       "         75: 232,\n",
       "         47: 359,\n",
       "         43: 76,\n",
       "         51: 594,\n",
       "         45: 161,\n",
       "         44: 317,\n",
       "         49: 638,\n",
       "         42: 105,\n",
       "         76: 182,\n",
       "         37: 7,\n",
       "         41: 25,\n",
       "         40: 8,\n",
       "         82: 9,\n",
       "         81: 16,\n",
       "         78: 40,\n",
       "         83: 1,\n",
       "         80: 17,\n",
       "         38: 8,\n",
       "         36: 15,\n",
       "         39: 1})"
      ]
     },
     "execution_count": 6,
     "metadata": {},
     "output_type": "execute_result"
    }
   ],
   "source": [
    "billboard_p_saved"
   ]
  },
  {
   "cell_type": "code",
   "execution_count": 7,
   "id": "26951762-7dd8-4fd4-8bb7-078e054cde04",
   "metadata": {},
   "outputs": [
    {
     "data": {
      "text/plain": [
       "Counter({0.25: 12807,\n",
       "         0.5: 46491,\n",
       "         2.0: 1944,\n",
       "         1.0: 15615,\n",
       "         1.5: 2918,\n",
       "         0.75: 1888,\n",
       "         4.0: 603,\n",
       "         0.0: 1798,\n",
       "         Fraction(1, 6): 93,\n",
       "         Fraction(1, 3): 514,\n",
       "         3.0: 524,\n",
       "         0.125: 239,\n",
       "         0.375: 124,\n",
       "         3.5: 25,\n",
       "         Fraction(2, 3): 568,\n",
       "         Fraction(2, 5): 10,\n",
       "         1.75: 20,\n",
       "         0.0625: 1,\n",
       "         0.1875: 1,\n",
       "         Fraction(4, 3): 14,\n",
       "         6.0: 25})"
      ]
     },
     "execution_count": 7,
     "metadata": {},
     "output_type": "execute_result"
    }
   ],
   "source": [
    "billboard_ql_saved"
   ]
  },
  {
   "cell_type": "code",
   "execution_count": 8,
   "id": "30d2731e-f4c4-42ad-931b-1bf910d96f84",
   "metadata": {},
   "outputs": [],
   "source": [
    "# From my own experimentation, in the default music21 tempo, a quarterLength of 2 corresponds to 1 second in real time\n",
    "# Therefore for a 60-second piece, my desired total quarterLength should be 120.\n",
    "duration = 120\n",
    "\n",
    "# Generate a random sequence of quarterLengths\n",
    "billboard_random_duration = make_random_sequence_qls(list(billboard_ql_saved.keys()), list(billboard_ql_saved.values()), duration=duration)\n",
    "\n",
    "# Check how many \"notes\" I need to generate and associate with the quarterLengths\n",
    "l = len(billboard_random_duration)\n",
    "\n",
    "# Generate random sequence of MIDI notes\n",
    "billboard_random_pitch = make_random_sequence(list(billboard_p_saved.keys()), list(billboard_p_saved.values()), length=l)\n",
    "\n",
    "# Save as \"basic.midi\"\n",
    "make_random_melody(billboard_random_pitch, billboard_random_duration, filename=\"basic\")"
   ]
  },
  {
   "cell_type": "markdown",
   "id": "0597b6c4-b8a9-47e8-a695-81128b23f767",
   "metadata": {},
   "source": [
    "# Intermediate & Advanced: Sequential n-gram model"
   ]
  },
  {
   "cell_type": "code",
   "execution_count": 10,
   "id": "cc827ae0-21d8-46d1-9949-e5a8622f00cc",
   "metadata": {},
   "outputs": [],
   "source": [
    "# Extracts the sequence of MIDI notes from a given score\n",
    "def pitch_sequence(score, ignore_chords=True, min_time=None, max_time=None):\n",
    "    pitches = []\n",
    "    # vvvvvvvvvvvvvvvvvvvvvvvvvvvvvvv\n",
    "    # traverse all elements in the score\n",
    "    for element in score.flat:\n",
    "        if isinstance(element, m21.note.Note) and element.tie != m21.tie.Tie(\"stop\"):\n",
    "            # check for min/max time\n",
    "            if min_time is not None and element.offset < min_time:\n",
    "                continue\n",
    "            if max_time is not None and element.offset >= max_time:\n",
    "                continue\n",
    "            # get MIDI pitch for single notes\n",
    "            pitches.append(element.pitch.midi)\n",
    "        elif isinstance(element, m21.chord.Chord):\n",
    "            # ignore chords or raise error\n",
    "            if ignore_chords:\n",
    "                continue\n",
    "            raise RuntimeError(f\"Input contains chords {element} at {element.offset}\")\n",
    "        else:\n",
    "            # ignore anything else\n",
    "            continue\n",
    "    # ^^^^^^^^^^^^^^^^^^^^^^^^^^^^^^^\n",
    "    return np.asarray(pitches)\n",
    "\n",
    "# The simple n-gram implementation\n",
    "class NGramModel:\n",
    "\n",
    "    def __init__(self, n, prior_counts=0, alphabet=()):\n",
    "        self.n = n                        # order of the n-gram model\n",
    "        self.counts = {}                  # dict with counts for the individual n-grams\n",
    "        self.prior_counts = prior_counts  # prior counts\n",
    "        self.alphabet = set(alphabet)     # alphabet of symbols\n",
    "\n",
    "    def fill_alphabet(self):\n",
    "        \"\"\"Fill gaps in integer alphabet\"\"\"\n",
    "        for a in list(range(min(self.alphabet), max(self.alphabet) + 1)):\n",
    "            self.alphabet.add(a)\n",
    "    \n",
    "    def check_n_gram(self, n_gram):\n",
    "        n_gram = tuple(n_gram)\n",
    "        assert len(n_gram) == self.n, f\"n-gram must have length n={self.n}, but {n_gram} has length {len(n_gram)}\"\n",
    "        return n_gram\n",
    "\n",
    "    def add(self, n_gram):\n",
    "        \"\"\"Add an *n*-gram by initialising or incrementing its count.\"\"\"\n",
    "        n_gram = self.check_n_gram(n_gram)\n",
    "        assert len(n_gram) == self.n, \\\n",
    "            f\"n-gram has wrong length, expected {self.n}, got {len(n_gram)}\"\n",
    "        self.alphabet |= set(n_gram)\n",
    "        # vvvvvvvvvvvvvvvvvvvvvvvvvvvvvvv\n",
    "        try:\n",
    "            self.counts[n_gram] += 1\n",
    "        except KeyError:\n",
    "            self.counts[n_gram] = 1\n",
    "        # ^^^^^^^^^^^^^^^^^^^^^^^^^^^^^^^\n",
    "\n",
    "    def add_sequence(self, sequence):\n",
    "        \"\"\"Add all *n*-grams in the sequence.\"\"\"\n",
    "        # vvvvvvvvvvvvvvvvvvvvvvvvvvvvvvv\n",
    "        for start in range(0, len(sequence) - self.n + 1):\n",
    "            n_gram = sequence[start:start + self.n]\n",
    "            self.add(n_gram)\n",
    "        # ^^^^^^^^^^^^^^^^^^^^^^^^^^^^^^^\n",
    "\n",
    "    def c(self, n_gram):\n",
    "        \"\"\"Return counts for this *n*-gram.\"\"\"\n",
    "        n_gram = self.check_n_gram(n_gram)\n",
    "        # vvvvvvvvvvvvvvvvvvvvvvvvvvvvvvv\n",
    "        try:\n",
    "            return self.counts[n_gram] + self.prior_counts\n",
    "        except KeyError:\n",
    "            return self.prior_counts\n",
    "        # ^^^^^^^^^^^^^^^^^^^^^^^^^^^^^^^\n",
    "\n",
    "    def p(self, n_gram):\n",
    "        \"\"\"Return probability of the last element in the *n*-gram conditional on the first ``n-1`` elements.\"\"\"\n",
    "        n_gram = self.check_n_gram(n_gram)\n",
    "        # vvvvvvvvvvvvvvvvvvvvvvvvvvvvvvv\n",
    "        norm = sum([self.c(n_gram[:-1] + (a,)) for a in self.alphabet])\n",
    "        if norm == 0:\n",
    "            return 1 / len(self.alphabet)\n",
    "        return self.c(n_gram) / norm\n",
    "        # ^^^^^^^^^^^^^^^^^^^^^^^^^^^^^^^\n",
    "\n",
    "# The n-gram implementation with smoothing\n",
    "class SmoothingNGramModel:\n",
    "\n",
    "    def __init__(self, n, prior_counts=0, alphabet=()):\n",
    "        self._prior_counts = prior_counts\n",
    "        self.n_gram_models = {n_: NGramModel(n=n_, prior_counts=prior_counts, alphabet=alphabet) for n_ in range(1, n + 1)}\n",
    "    \n",
    "    @property\n",
    "    def prior_counts(self):\n",
    "        return self._prior_counts\n",
    "    \n",
    "    @prior_counts.setter\n",
    "    def prior_counts(self, value):\n",
    "        self._prior_counts = value\n",
    "        for model in self.n_gram_models.values():\n",
    "            model.prior_counts = value\n",
    "    \n",
    "    @property\n",
    "    def alphabet(self):\n",
    "        return set().union(*[m.alphabet for m in self.n_gram_models.values()])\n",
    "\n",
    "    def fill_alphabet(self):\n",
    "        for model in self.n_gram_models.values():\n",
    "            model.fill_alphabet()\n",
    "\n",
    "    def add_sequence(self, sequence):\n",
    "        for model in self.n_gram_models.values():\n",
    "            model.add_sequence(sequence)\n",
    "\n",
    "    def p(self, n_gram):\n",
    "        context = n_gram[:-1]\n",
    "        event = n_gram[-1]\n",
    "        n = len(n_gram)\n",
    "        w = self.weight(context)\n",
    "        # vvvvvvvvvvvvvvvvvvvvvvvvvvvvvvv\n",
    "        n_gram_prediction = self.n_gram_models[n].p(n_gram)\n",
    "        if n == 1:\n",
    "            # stop recursion\n",
    "            return n_gram_prediction\n",
    "        else:\n",
    "            # recurse and smooth\n",
    "            return w * n_gram_prediction + (1 - w) * self.p(n_gram[1:])\n",
    "        # ^^^^^^^^^^^^^^^^^^^^^^^^^^^^^^^\n",
    "\n",
    "    # this is giving the weight a value of 0.5 before recursing to smaller n\n",
    "    def weight(self, context):\n",
    "        return 0.5"
   ]
  },
  {
   "cell_type": "code",
   "execution_count": 11,
   "id": "b666ee88-4825-478b-a9e6-6800ae98ed87",
   "metadata": {},
   "outputs": [],
   "source": [
    "# Extracts the sequence of quarterLengths from a given score\n",
    "# Additionally, performs some binning to condense rarely-occuring quarterLengths to the nearest significant length\n",
    "def ql_sequence(score, ignore_chords=True, min_time=None, max_time=None):\n",
    "    qls = []\n",
    "    # vvvvvvvvvvvvvvvvvvvvvvvvvvvvvvv\n",
    "    # traverse all elements in the score\n",
    "    for element in score.flat:\n",
    "        if isinstance(element, m21.note.Note) and element.tie != m21.tie.Tie(\"stop\"):\n",
    "            # check for min/max time\n",
    "            if min_time is not None and element.offset < min_time:\n",
    "                continue\n",
    "            if max_time is not None and element.offset >= max_time:\n",
    "                continue\n",
    "            # get quarterLength for single notes\n",
    "            if element.quarterLength == Fraction(2,3):\n",
    "                qls.append(0.75)\n",
    "            elif element.quarterLength in (Fraction(1,3), Fraction(1,6), 0.375, 0.125, 0.0625, 0.1875):\n",
    "                qls.append(0.25)\n",
    "            elif element.quarterLength == 1.75:\n",
    "                qls.append(2)\n",
    "            elif element.quarterLength == 3.5:\n",
    "                qls.append(3)\n",
    "            elif element.quarterLength == Fraction(4, 3):\n",
    "                qls.append(1.5)\n",
    "            elif element.quarterLength == Fraction(2, 5):\n",
    "                qls.append(0.5)\n",
    "            else:\n",
    "                qls.append(element.quarterLength)\n",
    "        elif isinstance(element, m21.chord.Chord):\n",
    "            # ignore chords or raise error\n",
    "            if ignore_chords:\n",
    "                continue\n",
    "            raise RuntimeError(f\"Input contains chords {element} at {element.offset}\")\n",
    "        else:\n",
    "            # ignore anything else\n",
    "            continue\n",
    "    # ^^^^^^^^^^^^^^^^^^^^^^^^^^^^^^^\n",
    "    return np.asarray(qls)"
   ]
  },
  {
   "cell_type": "code",
   "execution_count": 12,
   "id": "fc49e475-577c-40ee-8dd0-f562f2c19c2c",
   "metadata": {},
   "outputs": [],
   "source": [
    "# For the sake of reusing the n-gram code rather than reinventing the wheel,\n",
    "# this function maps the possible binned quarterLengths to a set of n-gram compatible integers\n",
    "# 1 corresponds to quarterLength 0.25, and so on.\n",
    "def ql_sequence_to_ints(ql):\n",
    "    int_ql = []\n",
    "    for i in range(len(ql)):\n",
    "        if ql[i] == 0.25:\n",
    "            int_ql.append(1)\n",
    "        elif ql[i] == 0.5:\n",
    "            int_ql.append(2)\n",
    "        elif ql[i] == 0.75:\n",
    "            int_ql.append(3)\n",
    "        elif ql[i] == 1:\n",
    "            int_ql.append(4)\n",
    "        elif ql[i] == 1.5:\n",
    "            int_ql.append(5)\n",
    "        elif ql[i] == 2:\n",
    "            int_ql.append(6)\n",
    "        elif ql[i] == 3:\n",
    "            int_ql.append(7)\n",
    "        elif ql[i] == 4:\n",
    "            int_ql.append(8)\n",
    "        elif ql[i] == 6:\n",
    "            int_ql.append(9)\n",
    "    return int_ql"
   ]
  },
  {
   "cell_type": "code",
   "execution_count": 13,
   "id": "7b4a4674-53e7-4517-aceb-e2e966cc0106",
   "metadata": {},
   "outputs": [
    {
     "data": {
      "text/plain": [
       "array([1.  , 0.5 , 1.  , 0.5 , 0.5 , 1.  , 1.  , 1.  , 0.75, 0.75, 0.5 ,\n",
       "       1.  , 1.5 , 0.5 , 0.5 , 1.  , 0.5 , 0.5 , 0.5 , 1.  , 0.5 , 1.5 ,\n",
       "       1.5 , 0.5 , 1.  , 0.5 , 1.5 , 1.  , 1.  , 0.5 , 1.  , 1.5 , 1.  ,\n",
       "       0.5 , 1.  , 1.  , 0.5 , 0.5 , 0.5 , 0.5 , 0.5 , 0.5 , 1.  , 0.5 ,\n",
       "       0.5 , 1.  , 1.  , 1.5 , 1.  , 1.  , 0.5 , 1.  , 0.5 , 1.  , 1.  ,\n",
       "       1.  , 1.  , 0.5 , 1.  , 1.5 , 1.  , 1.  , 1.  , 1.  , 2.  , 0.5 ,\n",
       "       0.5 , 0.5 , 0.5 , 1.5 , 0.5 , 0.5 , 0.5 , 1.  , 0.5 , 1.  , 1.  ,\n",
       "       1.  , 0.5 , 0.5 , 1.  , 1.  , 0.5 , 1.  , 0.5 , 1.  , 1.  , 1.  ,\n",
       "       1.  , 2.  , 0.5 , 1.5 , 0.5 , 1.  , 0.5 , 1.  , 1.  , 0.5 , 0.5 ,\n",
       "       1.  , 0.5 , 0.5 , 1.5 , 2.  , 0.5 , 1.5 , 1.  , 1.  , 0.5 , 0.5 ,\n",
       "       1.  , 1.  , 1.  , 1.  , 0.5 , 0.5 , 1.  , 1.  , 1.  , 1.  , 1.  ,\n",
       "       1.  , 1.  , 2.  , 2.  , 0.5 , 0.5 , 1.5 , 1.5 , 1.  , 1.  , 1.  ,\n",
       "       1.  , 4.  , 4.  , 0.5 , 0.5 , 1.5 , 1.5 , 0.5 , 0.5 , 1.5 , 1.5 ,\n",
       "       1.  , 1.  , 1.  , 1.  , 1.  , 1.  , 0.5 , 1.5 , 1.  , 1.  , 1.  ,\n",
       "       0.5 , 1.  , 0.5 , 0.5 , 0.5 , 1.  , 1.  , 1.  , 1.  , 1.  , 1.  ,\n",
       "       1.  , 0.5 , 1.5 , 1.  , 0.5 , 0.5 , 0.5 , 1.5 , 1.  , 1.  , 0.5 ,\n",
       "       1.  , 1.5 , 1.  , 1.  , 1.  , 1.  , 2.  , 0.5 , 0.5 , 0.5 , 0.5 ,\n",
       "       0.5 , 1.5 , 0.5 , 0.5 , 0.5 , 1.  , 0.5 , 0.5 , 1.  , 1.  , 1.  ,\n",
       "       0.5 , 1.  , 1.  , 0.5 , 1.  , 0.5 , 1.  , 1.  , 1.  , 1.  , 2.  ,\n",
       "       0.5 , 1.5 , 0.5 , 1.  , 0.5 , 1.  , 1.  , 0.5 , 0.5 , 1.  , 0.5 ,\n",
       "       0.5 , 1.5 , 2.  , 0.5 , 1.5 , 1.  , 1.  , 0.5 , 0.5 , 1.  , 1.  ,\n",
       "       1.  , 1.  , 0.5 , 0.5 , 1.  , 1.  , 1.  , 1.  , 1.  , 1.  , 1.  ,\n",
       "       2.  , 2.  , 0.5 , 0.5 , 1.5 , 1.5 , 1.  , 1.  , 1.  , 1.  , 4.  ,\n",
       "       4.  , 0.5 , 0.5 , 1.5 , 1.5 , 0.5 , 0.5 , 1.5 , 1.5 , 1.  , 1.  ,\n",
       "       0.5 , 1.5 , 1.  , 1.  , 0.5 , 1.  , 1.5 , 1.  , 0.5 , 1.  , 1.  ,\n",
       "       0.5 , 0.5 , 0.5 , 0.5 , 0.5 , 0.5 , 1.  , 1.  , 0.5 , 1.  , 1.  ,\n",
       "       1.5 , 1.  , 1.  , 0.5 , 1.  , 0.5 , 1.  , 1.  , 1.  , 1.  , 0.5 ,\n",
       "       1.  , 1.  , 0.5 , 1.  , 1.  , 1.  , 1.  , 2.  , 0.5 , 0.5 , 0.5 ,\n",
       "       0.5 , 1.5 , 0.5 , 1.  , 0.5 , 1.5 , 0.5 , 1.  , 1.  , 1.  , 0.5 ,\n",
       "       0.5 , 1.  , 1.  , 0.5 , 1.  , 0.5 , 1.  , 1.  , 1.  , 1.  , 2.  ,\n",
       "       0.5 , 1.5 , 0.5 , 1.  , 0.5 , 1.  , 1.  , 0.5 , 0.5 , 1.  , 1.  ,\n",
       "       0.5 , 1.5 , 2.  , 0.5 , 1.5 , 1.  , 1.  , 0.5 , 0.5 , 1.  , 1.  ,\n",
       "       1.  , 1.  , 0.5 , 0.5 , 1.  , 1.  , 1.  , 1.  , 1.  , 1.  , 1.  ,\n",
       "       2.  , 2.  , 0.5 , 0.5 , 1.5 , 1.5 , 1.  , 1.  , 1.  , 1.  , 4.  ,\n",
       "       4.  , 0.5 , 0.5 , 1.5 , 1.5 , 0.5 , 0.5 , 1.5 , 1.5 , 1.  , 1.  ,\n",
       "       1.  , 1.  , 1.  , 1.5 , 1.5 , 0.5 , 0.5 , 2.  , 2.  , 4.  , 4.  ])"
      ]
     },
     "execution_count": 13,
     "metadata": {},
     "output_type": "execute_result"
    }
   ],
   "source": [
    "# Here is an example of the binning of a song's quarterLength sequence\n",
    "song = m21.converter.parse(billboard_path + 'TheBeatles_Help_1965.varms.hum', format=\"humdrum\")\n",
    "\n",
    "ql_example = ql_sequence(song, ignore_chords=True)\n",
    "ql_example"
   ]
  },
  {
   "cell_type": "code",
   "execution_count": 14,
   "id": "2da332f6-c658-4637-a00c-6e38c85a9b4a",
   "metadata": {},
   "outputs": [
    {
     "name": "stdout",
     "output_type": "stream",
     "text": [
      "The smallest MIDI number in this set of songs is: 36\n",
      "The biggest MIDI number in this set of songs is: 83\n",
      "Parsed through 214 songs.\n"
     ]
    }
   ],
   "source": [
    "# Prepare for the combination of n-grams by finding the total alphabet range\n",
    "# To prepare our total transition table, we need to know the range of MIDI numbers across all 214 Billboard songs\n",
    "midi_min = 100\n",
    "midi_max = 0\n",
    "counter = 0\n",
    "\n",
    "# Loop through all 214 Billboard songs\n",
    "for songname in billboard_file_list:\n",
    "\n",
    "    # Parse song\n",
    "    song = m21.converter.parse(billboard_path + songname, format=\"humdrum\")\n",
    "    counter += 1\n",
    "    \n",
    "    # Generate pitch sequence\n",
    "    s = pitch_sequence(song, ignore_chords=True)\n",
    "\n",
    "    current_min = min(s)\n",
    "    current_max = max(s)\n",
    "\n",
    "    if midi_min > current_min:\n",
    "        midi_min = current_min\n",
    "\n",
    "    if midi_max < current_max:\n",
    "        midi_max = current_max\n",
    "        \n",
    "        # Midi Range\n",
    "        #midi_range = list(range(matrix[1][0], matrix[1][1] + 1))\n",
    "\n",
    "print(\"The smallest MIDI number in this set of songs is: \" + str(midi_min))\n",
    "print(\"The biggest MIDI number in this set of songs is: \" + str(midi_max))\n",
    "print(\"Parsed through \" + str(counter) + \" songs.\" )"
   ]
  },
  {
   "cell_type": "code",
   "execution_count": 24,
   "id": "59041cb3-dfd9-4eb8-a421-b2fba993dea3",
   "metadata": {},
   "outputs": [
    {
     "name": "stdout",
     "output_type": "stream",
     "text": [
      "Transition table for Billboard combined.\n"
     ]
    }
   ],
   "source": [
    "# Based on what we found above:\n",
    "smallest_midi = 36\n",
    "biggest_midi = 83\n",
    "pitch_transition_range = biggest_midi - smallest_midi + 1\n",
    "quarterLength_transition_range = 9\n",
    "\n",
    "# Build an empty transition table for MIDI 36 to 83\n",
    "p_transition = np.zeros((pitch_transition_range, pitch_transition_range))\n",
    "\n",
    "# Build an empty transition table for my 9 possible quarterLengths\n",
    "q_transition = np.zeros((quarterLength_transition_range, quarterLength_transition_range))\n",
    "\n",
    "# Since the smallest MIDI is 36, our offset for computing ranges is 36\n",
    "offset = smallest_midi\n",
    "\n",
    "# For the 214 Billboard Songs\n",
    "for songname in billboard_file_list:\n",
    "\n",
    "    # Parse Song\n",
    "    song = m21.converter.parse(billboard_path + songname, format=\"humdrum\")\n",
    "\n",
    "    # Generate pitch and quarterLength sequences\n",
    "    s = pitch_sequence(song, ignore_chords=True)\n",
    "    q = ql_sequence_to_ints(ql_sequence(song, ignore_chords=True))\n",
    "\n",
    "\n",
    "    #####################################################################################################\n",
    "    # PITCH N-GRAM HERE\n",
    "    #\n",
    "    # Generate n-gram model\n",
    "    pitch_n_gram_model = SmoothingNGramModel(n=2)\n",
    "    pitch_n_gram_model.add_sequence(s)\n",
    "    pitch_n_gram_model.fill_alphabet()\n",
    "    \n",
    "    # Set a prior count\n",
    "    pitch_n_gram_model.prior_counts = 1\n",
    "    \n",
    "    # Generate bigram matrix\n",
    "    p_matrix = bigram_matrix_from_model(pitch_n_gram_model)\n",
    "    \n",
    "    # Compute the min/max MIDI range of the current song's bigram matrix\n",
    "    p_matrix_min = p_matrix[1][0]\n",
    "    p_matrix_max = p_matrix[1][1]\n",
    "\n",
    "    # The global transition table looks at the transition of note X to note Y\n",
    "    # so the first layer of array indexing looks at the range of starting notes\n",
    "    # for example, if the bigram matrix ranges from 40 to 45, 40 - 36 = 4, 45 - 36 = 9\n",
    "    # so the bigram matrix maps to cells 4 to 9 of my transition table, that's px_index = 4 and py_index = 9\n",
    "    px_index = p_matrix_min - offset\n",
    "    px_limit = p_matrix_max - offset\n",
    "\n",
    "    # Intialise counter so we can index into the bigram matrix\n",
    "    p_counter_x = 0\n",
    "    \n",
    "    # Seek the current starting note\n",
    "    while px_index < px_limit:\n",
    "\n",
    "        # For every starting note X, we have 49 possible transitions to note Y\n",
    "        # so we set the next layer of array indexing for the range of transition notes\n",
    "        py_index = p_matrix_min - offset\n",
    "        py_limit = p_matrix_max - offset\n",
    "\n",
    "        # Intialise another counter for transition notes\n",
    "        p_counter_y = 0\n",
    "        \n",
    "        # Seek the current transition note\n",
    "        while py_index < py_limit:\n",
    "\n",
    "            # Here, we take the probability of X to Y in the bigram matrix and add it into the \n",
    "            # corresponding location in the global transition table (for Arithmetic Mean)\n",
    "            p_transition[px_index][py_index] += p_matrix[0][p_counter_x][p_counter_y]\n",
    "\n",
    "            # Move on to the next note in the range and update indexing counter\n",
    "            py_index += 1\n",
    "            p_counter_y += 1\n",
    "\n",
    "        # Move on to the next note in the range and update indexing counter\n",
    "        px_index += 1\n",
    "        p_counter_x += 1\n",
    "\n",
    "    ###################################################################################################\n",
    "    # QUARTERLENGTH N-GRAM HERE\n",
    "    #\n",
    "    # Generate n-gram model\n",
    "    ql_n_gram_model = SmoothingNGramModel(n=2)\n",
    "    ql_n_gram_model.add_sequence(q)\n",
    "    ql_n_gram_model.fill_alphabet()\n",
    "    \n",
    "    # Set a prior count\n",
    "    ql_n_gram_model.prior_counts = 1\n",
    "    \n",
    "    # Generate bigram matrix\n",
    "    q_matrix = bigram_matrix_from_model(ql_n_gram_model)\n",
    "    \n",
    "    # Compute the min/max QL range of the current song's bigram matrix\n",
    "    q_matrix_min = q_matrix[1][0]\n",
    "    q_matrix_max = q_matrix[1][1]\n",
    "\n",
    "    # The global transition table looks at the transition of note X to note Y\n",
    "    # so the first layer of array indexing looks at the range of starting notes\n",
    "    qx_index = q_matrix_min - 1\n",
    "    qx_limit = q_matrix_max - 1\n",
    "\n",
    "    # Intialise counter so we can index into the bigram matrix\n",
    "    q_counter_x = 0\n",
    "    \n",
    "    # Seek the current starting note\n",
    "    while qx_index < qx_limit:\n",
    "\n",
    "        # For every starting note X, we have 49 possible transitions to note Y\n",
    "        # so we set the next layer of array indexing for the range of transition notes\n",
    "        qy_index = q_matrix_min - 1\n",
    "        qy_limit = q_matrix_max - 1\n",
    "\n",
    "        # Intialise another counter for transition notes\n",
    "        q_counter_y = 0\n",
    "        \n",
    "        # Seek the current transition note\n",
    "        while qy_index < qy_limit:\n",
    "\n",
    "            # Here, we take the probability of X to Y in the bigram matrix and add it into the \n",
    "            # corresponding location in the global transition table (for Arithmetic Mean)\n",
    "            q_transition[qx_index][qy_index] += q_matrix[0][q_counter_x][q_counter_y]\n",
    "\n",
    "            # Move on to the next note in the range and update indexing counter\n",
    "            qy_index += 1\n",
    "            q_counter_y += 1\n",
    "\n",
    "        # Move on to the next note in the range and update indexing counter\n",
    "        qx_index += 1\n",
    "        q_counter_x += 1\n",
    "\n",
    "print(\"Transition table for Billboard combined.\")"
   ]
  },
  {
   "cell_type": "code",
   "execution_count": 26,
   "id": "24219fa8-c4cf-4236-9562-18530ebe6685",
   "metadata": {},
   "outputs": [],
   "source": [
    "# Save the transition tables into text files\n",
    "np.savetxt(\"csv/billboard_pitch.csv\", p_transition, fmt=\"%f\", delimiter=\",\")\n",
    "np.savetxt(\"csv/billboard_quarterlength.csv\", q_transition, fmt=\"%f\", delimiter=\",\")"
   ]
  },
  {
   "cell_type": "code",
   "execution_count": 13,
   "id": "df297c1f-21f8-480a-8f7e-c8d271743161",
   "metadata": {},
   "outputs": [],
   "source": [
    "bb_pitch = np.loadtxt(\"csv/billboard_pitch.csv\", delimiter = \",\")\n",
    "bb_qls = np.loadtxt(\"csv/billboard_quarterlength.csv\", delimiter = \",\")"
   ]
  },
  {
   "cell_type": "code",
   "execution_count": 14,
   "id": "83e55fee-6239-4f43-80e7-3980ef32a20a",
   "metadata": {},
   "outputs": [
    {
     "data": {
      "text/plain": [
       "array([0.049751, 0.013793, 0.014989, 0.012596, 0.012596, 0.0114  ,\n",
       "       0.0114  , 0.041305, 0.014989, 0.0114  , 0.014989, 0.016185,\n",
       "       0.080778, 0.022166, 0.0114  , 0.0114  , 0.0114  , 0.013793,\n",
       "       0.0114  , 0.013793, 0.0114  , 0.02097 , 0.0114  , 0.018577,\n",
       "       0.125818, 0.017381, 0.082048, 0.042501, 0.181476, 0.02695 ,\n",
       "       0.0114  , 0.023362, 0.0114  , 0.      , 0.      , 0.      ,\n",
       "       0.      , 0.      , 0.      , 0.      , 0.      , 0.      ,\n",
       "       0.      , 0.      , 0.      , 0.      , 0.      , 0.      ])"
      ]
     },
     "execution_count": 14,
     "metadata": {},
     "output_type": "execute_result"
    }
   ],
   "source": [
    "# In the video, I forgot to specify that this is obviously only one row of my entire transition table\n",
    "# In this case bb_pitch[0] contains the transition probabilities starting from the 0th note, which is MIDI number 36\n",
    "bb_pitch[0]"
   ]
  },
  {
   "cell_type": "code",
   "execution_count": 15,
   "id": "265b0b4e-97cb-4dc0-b75a-28311f277500",
   "metadata": {},
   "outputs": [
    {
     "data": {
      "text/plain": [
       "array([51.792121, 68.348341, 11.938268, 22.968766,  6.813792,  3.379487,\n",
       "        1.974043,  0.098183,  0.      ])"
      ]
     },
     "execution_count": 15,
     "metadata": {},
     "output_type": "execute_result"
    }
   ],
   "source": [
    "bb_qls[0]"
   ]
  },
  {
   "cell_type": "markdown",
   "id": "a703eecb-81c9-4010-a8d1-c76425547ae6",
   "metadata": {},
   "source": [
    "# Generation from Billboard n-gram transition tables"
   ]
  },
  {
   "cell_type": "code",
   "execution_count": 16,
   "id": "7cb199f1-3c77-4d5b-a294-673bc347861e",
   "metadata": {},
   "outputs": [],
   "source": [
    "# Similar to the modified version I created for the PCP probability model\n",
    "# These functions keep track of the latest element in the sequence and adjust the weights of the next random selection\n",
    "# By indexing the correct row of the transition table \n",
    "\n",
    "def sequential_random_qls(\n",
    "    options: Union[List, Tuple],\n",
    "    weights: Union[List, Tuple],\n",
    "    duration: int,\n",
    "    seed: List\n",
    ") -> m21.stream.Part:\n",
    "    \"\"\"\n",
    "    Make a pseudorandom sequence of some data given\n",
    "    a list of `options` (e.g., midi notes or durations) and\n",
    "    another list of the same length with the corresponding `weights`.\n",
    "    \"\"\"\n",
    "    # Set the seed note(s) as the starting sequence\n",
    "    sequence = seed\n",
    "\n",
    "    # While the ql sequence is not at max length\n",
    "    while sum(sequence) < duration:\n",
    "        # current note is the last note in the sequence\n",
    "        current = sequence[-1]\n",
    "\n",
    "        # get index of the current note, e.g. the index of MIDI note 36 will be 0\n",
    "        # therefore we would look at the transitions for transition[0]\n",
    "        index = options.index(current)\n",
    "        nextQL = random.choices(options, weights=weights[index])\n",
    "        sequence += nextQL\n",
    "        #print(sequence)\n",
    "    \n",
    "    return sequence\n",
    "\n",
    "def sequential_random_midis(\n",
    "    options: Union[List, Tuple],\n",
    "    weights: Union[List, Tuple],\n",
    "    length: int,\n",
    "    seed: List\n",
    ") -> m21.stream.Part:\n",
    "    \"\"\"\n",
    "    Make a pseudorandom sequence of some data given\n",
    "    a list of `options` (e.g., midi notes or durations) and\n",
    "    another list of the same length with the corresponding `weights`.\n",
    "    \"\"\"\n",
    "    # Set the seed note(s) as the starting sequence\n",
    "    sequence = seed\n",
    "\n",
    "    # While the midi sequence is not at max length\n",
    "    while len(sequence) < length:\n",
    "        # current note is the last note in the sequence\n",
    "        current = sequence[-1]\n",
    "\n",
    "        # get index of the current note, e.g. the index of MIDI note 36 will be 0\n",
    "        # therefore we would look at the transitions for transition[0]\n",
    "        index = options.index(current)\n",
    "        nextNote = random.choices(options, weights=weights[index])\n",
    "        sequence += nextNote\n",
    "        #print(sequence)\n",
    "\n",
    "    return sequence"
   ]
  },
  {
   "cell_type": "code",
   "execution_count": 17,
   "id": "7e48b817-9e79-4329-9801-fb6b914b4de3",
   "metadata": {},
   "outputs": [],
   "source": [
    "# Load the saved checkpoints for billboard transition tables\n",
    "bb_pitch = np.loadtxt(\"csv/billboard_pitch.csv\", delimiter = \",\")\n",
    "bb_qls = np.loadtxt(\"csv/billboard_quarterlength.csv\", delimiter = \",\")\n",
    "\n",
    "# Basic quarterLength Counter probabilities\n",
    "with open('pickles/billboard_ql', 'rb') as file:\n",
    "    billboard_ql_saved = pickle.load(file)"
   ]
  },
  {
   "cell_type": "code",
   "execution_count": 18,
   "id": "a110aa61-f741-42b1-9893-01d34cdf3627",
   "metadata": {},
   "outputs": [],
   "source": [
    "# Prepare constants and options\n",
    "smallest_midi = 36\n",
    "biggest_midi = 83\n",
    "\n",
    "# Set the range of possible MIDI notes for selection\n",
    "midi_range = list(range(smallest_midi, biggest_midi + 1))\n",
    "\n",
    "# Set the range of possible quarterLengths\n",
    "ql_range = [0.25, 0.5, 0.75, 1, 1.5, 2.0, 3, 4, 6]"
   ]
  },
  {
   "cell_type": "code",
   "execution_count": 18,
   "id": "233dfe4f-1711-4c5b-a732-d76c096564c2",
   "metadata": {},
   "outputs": [
    {
     "data": {
      "text/plain": [
       "Counter({61: 10,\n",
       "         65: 14,\n",
       "         62: 26,\n",
       "         58: 5,\n",
       "         69: 3,\n",
       "         52: 8,\n",
       "         67: 10,\n",
       "         54: 9,\n",
       "         47: 2,\n",
       "         53: 8,\n",
       "         51: 3,\n",
       "         49: 2,\n",
       "         59: 24,\n",
       "         48: 3,\n",
       "         70: 3,\n",
       "         64: 12,\n",
       "         57: 8,\n",
       "         66: 11,\n",
       "         50: 8,\n",
       "         55: 10,\n",
       "         60: 8,\n",
       "         68: 6,\n",
       "         74: 4,\n",
       "         63: 5,\n",
       "         73: 1,\n",
       "         46: 1,\n",
       "         44: 1,\n",
       "         56: 5,\n",
       "         45: 1,\n",
       "         76: 1,\n",
       "         38: 1,\n",
       "         71: 1})"
      ]
     },
     "execution_count": 18,
     "metadata": {},
     "output_type": "execute_result"
    }
   ],
   "source": [
    "# We find that the most common starting note is MIDI note 62\n",
    "first_midis = []\n",
    "\n",
    "for songname in billboard_file_list:\n",
    "    # Parse Song\n",
    "    song = m21.converter.parse(billboard_path + songname, format=\"humdrum\")\n",
    "    s = pitch_sequence(song, ignore_chords=True)\n",
    "    first_midis.append(s[0])\n",
    "\n",
    "Counter(first_midis)"
   ]
  },
  {
   "cell_type": "code",
   "execution_count": 31,
   "id": "27f34494-4df3-4e58-ae48-a7be877532fb",
   "metadata": {},
   "outputs": [
    {
     "data": {
      "text/plain": [
       "Counter({0.25: 30,\n",
       "         0.5: 113,\n",
       "         1.5: 10,\n",
       "         1.0: 40,\n",
       "         0.75: 4,\n",
       "         4.0: 1,\n",
       "         2.0: 5,\n",
       "         0.0: 10,\n",
       "         3.0: 1})"
      ]
     },
     "execution_count": 31,
     "metadata": {},
     "output_type": "execute_result"
    }
   ],
   "source": [
    "# We find that the most common starting quarterLength is 0.5\n",
    "first_qls = []\n",
    "\n",
    "for songname in billboard_file_list:\n",
    "    # Parse Song\n",
    "    song = m21.converter.parse(billboard_path + songname, format=\"humdrum\")\n",
    "    q = ql_sequence(song, ignore_chords=True)\n",
    "    first_qls.append(q[0])\n",
    "\n",
    "Counter(first_qls)"
   ]
  },
  {
   "cell_type": "code",
   "execution_count": 19,
   "id": "5721e594-5359-4598-954f-a976d784a85f",
   "metadata": {},
   "outputs": [],
   "source": [
    "# Intermediate\n",
    "# Generate a song with only n-grams for MIDI notes, the quarterLengths use the basic counter probabilities\n",
    "duration = 120\n",
    "starting_pitch = [62]\n",
    "\n",
    "# Generate QL sequence with counter probabilities\n",
    "quarterLength_generated = make_random_sequence_qls(list(billboard_ql_saved.keys()), list(billboard_ql_saved.values()), duration=duration)\n",
    "\n",
    "# Define l based on length of QL sequence\n",
    "l = len(quarterLength_generated)\n",
    "\n",
    "# Generate MIDI number sequence\n",
    "pitches_generated = sequential_random_midis(midi_range, bb_pitch, length=l, seed=starting_pitch)\n",
    "\n",
    "# Save as \"inter.midi\"\n",
    "make_random_melody(pitches_generated, quarterLength_generated, filename=\"inter\")"
   ]
  },
  {
   "cell_type": "code",
   "execution_count": 20,
   "id": "95100f5f-bac8-4ade-8b74-048ec84b14f1",
   "metadata": {},
   "outputs": [],
   "source": [
    "# Generate a song two n-grams, one for notes and one for quarterLengths\n",
    "duration = 120\n",
    "starting_pitch = [62]\n",
    "starting_ql = [0.5]\n",
    "\n",
    "# Generate QL sequence with the QL transition table\n",
    "quarterLength_generated = sequential_random_qls(ql_range, bb_qls, duration=duration, seed=starting_ql)\n",
    "\n",
    "# Define l based on length of QL sequence\n",
    "l = len(quarterLength_generated)\n",
    "\n",
    "# Generate MIDI number sequence\n",
    "pitches_generated = sequential_random_midis(midi_range, bb_pitch, length=l, seed=starting_pitch)\n",
    "\n",
    "# Save as \"adv.midi\"\n",
    "make_random_melody(pitches_generated, quarterLength_generated, filename=\"adv\")"
   ]
  },
  {
   "cell_type": "markdown",
   "id": "f7e47b3e-19f6-4fb4-b016-56da9d71537a",
   "metadata": {},
   "source": [
    "# Selecting source pieces for listening test"
   ]
  },
  {
   "cell_type": "code",
   "execution_count": 20,
   "id": "83ba7b5e-c2ee-47d0-b745-36e395c4efa4",
   "metadata": {},
   "outputs": [],
   "source": [
    "# EarthWindAndFire_September_1979.hum\n",
    "# TheBeatles_Help_1965.varms.hum"
   ]
  },
  {
   "cell_type": "code",
   "execution_count": 35,
   "id": "383dbae8-cab3-4c9e-94f2-66cc0fb5a651",
   "metadata": {},
   "outputs": [],
   "source": [
    "# Given some duration, decide how far into the song's note sequence to cut the song\n",
    "def cut_song(sequence, duration):\n",
    "    sum = 0\n",
    "    for i in range(len(sequence)):\n",
    "        sum += sequence[i]\n",
    "        if sum > duration:\n",
    "            return i"
   ]
  },
  {
   "cell_type": "code",
   "execution_count": 36,
   "id": "15cc844d-c48b-4845-9acb-0f558869195b",
   "metadata": {},
   "outputs": [],
   "source": [
    "# Generate source piece A\n",
    "song1 = m21.converter.parse(billboard_path + 'EarthWindAndFire_September_1979.hum', format=\"humdrum\")\n",
    "\n",
    "s1 = pitch_sequence(song1, ignore_chords=True)\n",
    "q1 = ql_sequence(song1, ignore_chords=True)\n",
    "limit1 = cut_song(q1, 120) # Find out the cut-off point for 1 minute\n",
    "cut_s1 = s1[:limit1] # slice the lists accordingly\n",
    "cut_q1 = q1[:limit1]\n",
    "\n",
    "make_random_melody(cut_s1, cut_q1, filename=\"source_A\")"
   ]
  },
  {
   "cell_type": "code",
   "execution_count": 37,
   "id": "7d168614-b3e5-4e17-baf2-0ca3a559be97",
   "metadata": {},
   "outputs": [],
   "source": [
    "# Generate source piece B\n",
    "song2 = m21.converter.parse(billboard_path + 'TheBeatles_Help_1965.varms.hum', format=\"humdrum\")\n",
    "\n",
    "s2 = pitch_sequence(song2, ignore_chords=True)\n",
    "q2 = ql_sequence(song2, ignore_chords=True)\n",
    "limit2 = cut_song(q2, 120)\n",
    "cut_s2 = s2[:limit2]\n",
    "cut_q2 = q2[:limit2]\n",
    "\n",
    "make_random_melody(cut_s2, cut_q2, filename=\"source_B\")"
   ]
  },
  {
   "cell_type": "code",
   "execution_count": null,
   "id": "2fdacfa6-3fe4-41a3-b0c7-7e1e0050856f",
   "metadata": {},
   "outputs": [],
   "source": []
  },
  {
   "cell_type": "markdown",
   "id": "f3f796c1-1b88-4891-8a39-e990692643fd",
   "metadata": {},
   "source": [
    "# PCP Entropy Calculation"
   ]
  },
  {
   "cell_type": "code",
   "execution_count": 21,
   "id": "0e68eb68-71aa-4d4f-8f57-9d2fd131f03f",
   "metadata": {},
   "outputs": [
    {
     "data": {
      "text/plain": [
       "['adv_A.midi',\n",
       " 'adv_B.midi',\n",
       " 'basic_A.midi',\n",
       " 'basic_B.midi',\n",
       " 'inter_A.midi',\n",
       " 'inter_B.midi',\n",
       " 'source_A.midi',\n",
       " 'source_B.midi']"
      ]
     },
     "execution_count": 21,
     "metadata": {},
     "output_type": "execute_result"
    }
   ],
   "source": [
    "# Set folder paths\n",
    "billboard_path = 'CoCoPops-main/Billboard/Data/'\n",
    "eval_path = 'Evaluation/'\n",
    "\n",
    "files_in_billboard = os.listdir(billboard_path)\n",
    "files_in_eval = os.listdir(eval_path)\n",
    "files_in_eval"
   ]
  },
  {
   "cell_type": "code",
   "execution_count": 22,
   "id": "de4b6f97-668f-4ff4-92be-467052a2b1e7",
   "metadata": {},
   "outputs": [],
   "source": [
    "# Give a file path and the file name, function returns the entropy of the PCP of the song as float\n",
    "def get_entropy(path, filename):\n",
    "    \n",
    "    # Empty numpy array for my pitch class profile\n",
    "    pcp_array = np.zeros(12)\n",
    "\n",
    "    # Parse song and use music21 built-in pitch analysis function\n",
    "    song = m21.converter.parse(path + filename, format=\"midi\")\n",
    "    pcp = m21.analysis.pitchAnalysis.pitchAttributeCount(song, 'pitchClass')\n",
    "    \n",
    "    # music21's pitch analysis returns a Counter dictionary, and we use the key-value pairs to fill my numpy array\n",
    "    for i in pcp.keys():\n",
    "        pcp_array[i] = pcp[i]\n",
    "\n",
    "    # Now we need to normalise the array by dividing each pitch class count by the total no. of pitches in the PCP\n",
    "    pitch_count = np.sum(pcp_array)\n",
    "    normalised_pcp = pcp_array / pitch_count\n",
    "\n",
    "    # Calculate the entropy of the song. \n",
    "    # Note that we add 1e-10 to avoid edge cases where pcp_array[i] == 0, which would lead to log(0) which is undefined\n",
    "    entropy = -np.sum(normalised_pcp * np.log2(normalised_pcp + 1e-10))\n",
    "    return entropy\n",
    "\n",
    "\n",
    "\n",
    "# Same function but for humdrum instead of MIDIs\n",
    "def get_entropy_hum(path, filename):\n",
    "    # Empty numpy array for my pitch class profile\n",
    "    pcp_array = np.zeros(12)\n",
    "    # Parse song and use music21 built-in pitch analysis function\n",
    "    song = m21.converter.parse(path + filename, format=\"humdrum\")\n",
    "    pcp = m21.analysis.pitchAnalysis.pitchAttributeCount(song, 'pitchClass')\n",
    "    # music21's pitch analysis returns a Counter dictionary, and we use the key-value pairs to fill my numpy array\n",
    "    for i in pcp.keys():\n",
    "        pcp_array[i] = pcp[i]\n",
    "    # Now we need to normalise the array by dividing each pitch class count by the total no. of pitches in the PCP\n",
    "    pitch_count = np.sum(pcp_array)\n",
    "    normalised_pcp = pcp_array / pitch_count\n",
    "    # Calculate the entropy of the song. \n",
    "    # Note that we add 1e-10 to avoid edge cases where pcp_array[i] == 0, which would lead to log(0) which is undefined\n",
    "    entropy = -np.sum(normalised_pcp * np.log2(normalised_pcp + 1e-10))\n",
    "    return entropy"
   ]
  },
  {
   "cell_type": "code",
   "execution_count": 23,
   "id": "7bb4c4e5-0b2a-48f8-a841-913bffbce7e2",
   "metadata": {},
   "outputs": [
    {
     "name": "stdout",
     "output_type": "stream",
     "text": [
      "adv_A.midi: 3.4556477856843655\n",
      "adv_B.midi: 3.4940298275565524\n",
      "basic_A.midi: 3.356913583037312\n",
      "basic_B.midi: 3.522610328357428\n",
      "inter_A.midi: 3.5024065653709777\n",
      "inter_B.midi: 3.4987928334886544\n",
      "source_A.midi: 2.4313360232101155\n",
      "source_B.midi: 2.6308309936271237\n"
     ]
    }
   ],
   "source": [
    "# Entropy of 1-min song snippets\n",
    "for file in files_in_eval:\n",
    "    print(file + \": \" + str(get_entropy(eval_path, file)))"
   ]
  },
  {
   "cell_type": "code",
   "execution_count": 24,
   "id": "a2e43ed7-6712-43f8-8bd5-2876db20b719",
   "metadata": {},
   "outputs": [
    {
     "name": "stdout",
     "output_type": "stream",
     "text": [
      "Checked 214 songs.\n",
      "Mean PCP Entropy: 2.6110516102525945\n"
     ]
    }
   ],
   "source": [
    "# Mean Entropy of Billboard Songs\n",
    "\n",
    "sum = 0.0\n",
    "counter = 0\n",
    "\n",
    "for file in billboard_file_list:\n",
    "    counter += 1\n",
    "    sum += get_entropy_hum(billboard_path, file)\n",
    "\n",
    "mean_entropy = sum / counter\n",
    "\n",
    "print(\"Checked \" + str(counter) + \" songs.\")\n",
    "print(\"Mean PCP Entropy: \" + str(mean_entropy))"
   ]
  }
 ],
 "metadata": {
  "kernelspec": {
   "display_name": "Python 3 (ipykernel)",
   "language": "python",
   "name": "python3"
  },
  "language_info": {
   "codemirror_mode": {
    "name": "ipython",
    "version": 3
   },
   "file_extension": ".py",
   "mimetype": "text/x-python",
   "name": "python",
   "nbconvert_exporter": "python",
   "pygments_lexer": "ipython3",
   "version": "3.9.18"
  }
 },
 "nbformat": 4,
 "nbformat_minor": 5
}
